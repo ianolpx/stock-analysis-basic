{
 "cells": [
  {
   "cell_type": "code",
   "execution_count": null,
   "metadata": {},
   "outputs": [],
   "source": [
    "print(\"Hello world!\")"
   ]
  },
  {
   "cell_type": "code",
   "execution_count": 1,
   "metadata": {},
   "outputs": [
    {
     "name": "stdout",
     "output_type": "stream",
     "text": [
      "5\n"
     ]
    }
   ],
   "source": [
    "a=2\n",
    "b=3\n",
    "c = a+b\n",
    "print(c)"
   ]
  },
  {
   "cell_type": "code",
   "execution_count": 2,
   "metadata": {},
   "outputs": [
    {
     "name": "stdout",
     "output_type": "stream",
     "text": [
      "Hello my name is genius\n",
      "and I'm 12 years old\n"
     ]
    }
   ],
   "source": [
    "my_name=\"genius\"\n",
    "age =12\n",
    "dead = False\n",
    "print(\"Hello my name is\", my_name)\n",
    "print(\"and I'm\", age, \"years old\")\n"
   ]
  },
  {
   "cell_type": "code",
   "execution_count": 4,
   "metadata": {},
   "outputs": [
    {
     "name": "stdout",
     "output_type": "stream",
     "text": [
      "hello how r u?\n",
      "hello world\n"
     ]
    }
   ],
   "source": [
    "def say_hello():\n",
    "    print(\"hello how r u?\")\n",
    "\n",
    "say_hello()\n",
    "print(\"hello world\")"
   ]
  },
  {
   "cell_type": "code",
   "execution_count": 5,
   "metadata": {},
   "outputs": [
    {
     "name": "stdout",
     "output_type": "stream",
     "text": [
      "hello how r u?\n"
     ]
    }
   ],
   "source": [
    "def say_hello():\n",
    "    print(\"hello how r u?\")\n",
    "\n",
    "def say_bye():\n",
    "    print(\"bye bye\")\n",
    "\n",
    "say_hello()"
   ]
  },
  {
   "cell_type": "code",
   "execution_count": 6,
   "metadata": {},
   "outputs": [
    {
     "name": "stdout",
     "output_type": "stream",
     "text": [
      "hello genius how are you?\n",
      "hello world\n"
     ]
    }
   ],
   "source": [
    "def say_hello(user_name):\n",
    "    print(\"hello\", user_name, \"how are you?\")\n",
    "\n",
    "say_hello(\"genius\")\n",
    "print(\"hello world\")"
   ]
  },
  {
   "cell_type": "code",
   "execution_count": 7,
   "metadata": {},
   "outputs": [
    {
     "name": "stdout",
     "output_type": "stream",
     "text": [
      "hello genius\n",
      "you are 12 years old\n",
      "hello world\n"
     ]
    }
   ],
   "source": [
    "def say_hello(user_name, user_age):\n",
    "    print(\"hello\", user_name)\n",
    "    print(\"you are\", user_age, \"years old\")\n",
    "\n",
    "say_hello(\"genius\", 12)\n",
    "print(\"hello world\")"
   ]
  }
 ],
 "metadata": {
  "kernelspec": {
   "display_name": "Python 3",
   "language": "python",
   "name": "python3"
  },
  "language_info": {
   "codemirror_mode": {
    "name": "ipython",
    "version": 3
   },
   "file_extension": ".py",
   "mimetype": "text/x-python",
   "name": "python",
   "nbconvert_exporter": "python",
   "pygments_lexer": "ipython3",
   "version": "3.12.2"
  }
 },
 "nbformat": 4,
 "nbformat_minor": 2
}
